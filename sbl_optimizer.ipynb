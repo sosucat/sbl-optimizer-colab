{
  "nbformat": 4,
  "nbformat_minor": 0,
  "metadata": {
    "colab": {
      "provenance": [],
      "collapsed_sections": [
        "vkd63QF86-g3",
        "mHjEnEtZ7azV",
        "jEwPKC3COIbX",
        "KIm3Jy5W7BhG",
        "CEfnkB8o88wk",
        "FUYGnY9Z-Y5A",
        "JzJTzQcm1HyG",
        "bMiKovWfAPkl",
        "mCxPTsv2AmFt",
        "N5AJMIUXsIGB",
        "Ld29_qKduCVT",
        "u4ppfYWPA5S7",
        "ay2GXkzFPJuT",
        "uHP6gd2SYqIg",
        "zMq7t065bBps",
        "jNyYGd1sY4Z_"
      ],
      "authorship_tag": "ABX9TyM2/mi9NkTK/S9oA2sD6YjU",
      "include_colab_link": true
    },
    "kernelspec": {
      "name": "python3",
      "display_name": "Python 3"
    },
    "language_info": {
      "name": "python"
    }
  },
  "cells": [
    {
      "cell_type": "markdown",
      "metadata": {
        "id": "view-in-github",
        "colab_type": "text"
      },
      "source": [
        "<a href=\"https://colab.research.google.com/github/sosucat/sbl-optimizer-colab/blob/main/sbl_optimizer.ipynb\" target=\"_parent\"><img src=\"https://colab.research.google.com/assets/colab-badge.svg\" alt=\"Open In Colab\"/></a>"
      ]
    },
    {
      "cell_type": "markdown",
      "source": [
        "# 💡 Make a Copy to Edit\n",
        "\n",
        "This notebook is **view-only**.  \n",
        "To interact with it (e.g., upload your image, run cells, or save your own results), you’ll need to **make your own copy**:\n",
        "\n",
        "- In the top-left corner:  **`File → Save a copy in Drive`**\n",
        "\n",
        "- Your copy will be saved to your Google Drive.\n",
        "\n",
        "- You’ll need to be signed into a Google account.\n"
      ],
      "metadata": {
        "id": "GJP0paxZKift"
      }
    },
    {
      "cell_type": "markdown",
      "source": [
        "# 🐐 sbl-optimizer: Print Pattern Optimizer for [Swell by Light](https://sites.gatech.edu/futurefeelings/2025/03/07/swell-by-light-tei-25/)\n",
        "[![PyPI version](https://badge.fury.io/py/sbl-optimizer.svg)](https://badge.fury.io/py/sbl-optimizer)\n",
        "[![GitHub](https://img.shields.io/badge/GitHub_repo-black?logo=github)](https://github.com/sosucat/sbl-optimizer)\n",
        "\n",
        "[![Homepage](https://img.shields.io/badge/🔗_Homepage-black)](https://sites.gatech.edu/futurefeelings/2025/03/07/swell-by-light-tei-25/)\n",
        "[![Author](https://img.shields.io/badge/Author-black?logo=googlescholar&logoColor=white)](https://sosuke-ichihashi.com/)\n",
        "[![Research paper](https://img.shields.io/badge/Research_Paper-black?logo=acm)](https://doi.org/10.1145/3689050.3704420)\n",
        "[![Fabrication](https://img.shields.io/badge/🔗_Fabrication-black)](https://sites.gatech.edu/futurefeelings/2025/07/23/make-puffy-patterns-with-light/)\n",
        "[![Watch fabrication demo on YouTube](https://img.shields.io/badge/Fabrication-750014?logo=youtube)](https://youtu.be/LomVS_jHxl0?feature=shared)\n",
        "\n",
        "Welcome to **sbl-optimizer**, a tool optimizing your pattern images for 2.5D texture fabrication!\n",
        "**This notebook is an advanced version** walking through all the codes.\n",
        "If you just want to use sbl-optimizer without minding the coding, check out the simplified Colab notebook:\n",
        "\n",
        "[![Simpler Colab](https://img.shields.io/badge/Simpler_Colab_Notebook-black?logo=googlecolab)](https://colab.research.google.com/drive/1Kpvq15wZrzsnQI28_JfkDSqCwT1ouyxj?usp=sharing)\n",
        "\n",
        "---\n",
        "\n",
        "\n",
        "![A printed pattern's shades change as the optimization progresses, and the resulting temperature distribution gets closer to the intended pattern.](https://sites.gatech.edu/futurefeelings/files/2025/03/opt_step.gif)\n",
        "\n",
        "Optimization of the printed pattern results in a uniform temperature distribution (right) closely matching the original pattern (left). In this example, the leaves are over-heated while the stems are under-heated before the optimization. As the iteration number goes up, the leaves' temperature goes down while the stems' goes up, resulting in a more uniform temperature distribution.\n",
        "\n",
        "---\n",
        "\n",
        "## 📑 Table of Contents\n",
        "1. [Setup & Installation](#scrollTo=vkd63QF86-g3)  \n",
        "2. [Library & Function Imports](#scrollTo=mHjEnEtZ7azV)  \n",
        "3. [Quick Start: Optimize Sample Pattern](#scrollTo=jEwPKC3COIbX)  \n",
        "4. [Optimize Your Pattern](#scrollTo=ay2GXkzFPJuT)  \n",
        "5. [Change Settings](#scrollTo=uHP6gd2SYqIg)  \n",
        "6. [Troubleshooting & FAQ](#scrollTo=-pFXIm8gfsJX)\n",
        "7. [Credits & License](#scrollTo=q2DhdMj88Kec)\n",
        "8. [Next Step](#scrollTo=af-mVoGqfRIf)\n",
        "\n",
        "---"
      ],
      "metadata": {
        "id": "aId0WYJ07opF"
      }
    },
    {
      "cell_type": "markdown",
      "source": [
        "## 1. Setup & Installation\n",
        "> We install the package."
      ],
      "metadata": {
        "id": "vkd63QF86-g3"
      }
    },
    {
      "cell_type": "code",
      "source": [
        "# Install the latest version from PyPI\n",
        "!pip install sbl-optimizer"
      ],
      "metadata": {
        "id": "PNqYaBUE67sz"
      },
      "execution_count": null,
      "outputs": []
    },
    {
      "cell_type": "markdown",
      "source": [
        "## 2. Library & Function Imports\n",
        "\n",
        "> We install necessary libraries and functions."
      ],
      "metadata": {
        "id": "mHjEnEtZ7azV"
      }
    },
    {
      "cell_type": "code",
      "source": [
        "import json\n",
        "from pathlib import Path\n",
        "import matplotlib.pyplot as plt\n",
        "from PIL import Image\n",
        "import importlib.resources as pkg_resources\n",
        "from google.colab import files\n",
        "from IPython.display import IFrame, display, Javascript\n",
        "import base64\n",
        "\n",
        "from sbl_optimizer.config import Config\n",
        "from sbl_optimizer.heat_solver import image_to_heat_pattern, optimize\n",
        "from sbl_optimizer.utils import compute_dims\n",
        "from sbl_optimizer.io import save_pattern, save_plots"
      ],
      "metadata": {
        "id": "sgQanEBs7HPS"
      },
      "execution_count": null,
      "outputs": []
    },
    {
      "cell_type": "markdown",
      "source": [
        "##3. Quick Start: Optimize Sample Pattern\n",
        "**Overview:** We walk through how to optimize patterns and download the results.\n",
        "1. ⚙️ Load Default Settings\n",
        "2. 🖼️ Load Sample Image\n",
        "3. 🔧 Prepare for Optimization\n",
        "4. 👀 Preview Prepared Image\n",
        "5. 🔁 Run Optimization\n",
        "6. 👀 Save & Preview Optimized Pattern\n",
        "7. 👀 Show Swell Pattern & Temperature Distribution\n",
        "8. 💾 Download Optimized Pattern\n",
        "9. 📉 (Optional) Show Optimization Performance"
      ],
      "metadata": {
        "id": "jEwPKC3COIbX"
      }
    },
    {
      "cell_type": "markdown",
      "source": [
        "### 3-1. ⚙️ Load Default Settings\n",
        "\n",
        "\n",
        "> First, decide on the parameters to use for the optimization—such as the temperature at which the paste expands or the resolution of the simulation. For now, we'll stick with the default settings.\n",
        "\n"
      ],
      "metadata": {
        "id": "KIm3Jy5W7BhG"
      }
    },
    {
      "cell_type": "code",
      "source": [
        "# Locate the bundled config.json inside the installed package\n",
        "def get_default_config_path():\n",
        "    return pkg_resources.as_file(\n",
        "        pkg_resources.files(\"sbl_optimizer.assets\") / \"config.json\"\n",
        "    )\n",
        "\n",
        "with get_default_config_path() as config_path:\n",
        "    with open(config_path) as f:\n",
        "        cfg_data = json.load(f)\n",
        "\n",
        "print(\"Default configuration:\")\n",
        "for k, v in cfg_data.items():\n",
        "    print(f\"- {k}: {v}\")\n",
        "\n",
        "# Create Config object\n",
        "cfg = Config.from_file(config_path)"
      ],
      "metadata": {
        "id": "o11qiqx575xP"
      },
      "execution_count": null,
      "outputs": []
    },
    {
      "cell_type": "markdown",
      "source": [
        "### 3-2. 🖼️ Load Sample Image\n",
        "> This time, we'll focus on walking through the full process, so we'll use a sample image provided with the library."
      ],
      "metadata": {
        "id": "CEfnkB8o88wk"
      }
    },
    {
      "cell_type": "code",
      "source": [
        "with pkg_resources.as_file(\n",
        "    pkg_resources.files(\"sbl_optimizer.assets\") / \"sample.jpg\"\n",
        ") as sample_img_path:\n",
        "    img = Image.open(sample_img_path)\n",
        "    plt.figure(figsize=(4,4))\n",
        "    plt.imshow(img)\n",
        "    plt.axis('off')\n",
        "    plt.title(\"Sample Input Image\")\n",
        "    plt.show()"
      ],
      "metadata": {
        "id": "KzXNncUU76Pl"
      },
      "execution_count": null,
      "outputs": []
    },
    {
      "cell_type": "markdown",
      "source": [
        "### 3-3. 🔧 Prepare for Optimization\n",
        "\n",
        "\n",
        "> We'll first make the patterned areas of the image a uniform gray. Then, we'll adjust the image resolution to match that of the simulation.\n"
      ],
      "metadata": {
        "id": "FUYGnY9Z-Y5A"
      }
    },
    {
      "cell_type": "code",
      "source": [
        "mask, H_init, max_heat = image_to_heat_pattern(sample_img_path, cfg)"
      ],
      "metadata": {
        "id": "sR3zC-F29FaA"
      },
      "execution_count": null,
      "outputs": []
    },
    {
      "cell_type": "markdown",
      "source": [
        "### 3-4. 👀 Preview Prepared Image\n",
        "> Here is the preprocessed sample image. This represents the pre-optimization state.\n",
        "\n"
      ],
      "metadata": {
        "id": "JzJTzQcm1HyG"
      }
    },
    {
      "cell_type": "code",
      "source": [
        "# Visualize the initialized print pattern using matplotlib\n",
        "def visualize_init_pattern(H_init, max_heat):\n",
        "  plt.figure(figsize=(4,4))\n",
        "  plt.imshow(H_init/max_heat, cmap='gray_r', vmin=0.0, vmax=1.0)\n",
        "  plt.axis('off')\n",
        "  plt.title(\"Initial print pattern\")\n",
        "  plt.show()\n",
        "\n",
        "visualize_init_pattern(H_init, max_heat)"
      ],
      "metadata": {
        "id": "fx4uB7dG1IGr"
      },
      "execution_count": null,
      "outputs": []
    },
    {
      "cell_type": "markdown",
      "source": [
        "### 3-5. 🔁 Run Optimization\n",
        "\n",
        "> The goal of this optimization is to create a swell pattern that closely resembles the original design, even after heat conduction occurs within the paper. If we simply make the entire pattern uniformly gray or black, the wider lines tend to overheat while the thinner ones don’t heat up enough due to the heat conduction. As a result, the temperature distribution won't match the original image, and the heat-based swells won’t either. To address this, we perform “optimization” to adjust the shading in different areas so that the resulting temperature distribution, after heat conduction, matches the original image as closely as possible."
      ],
      "metadata": {
        "id": "bMiKovWfAPkl"
      }
    },
    {
      "cell_type": "code",
      "source": [
        "%%time\n",
        "# Set the maximum height of the output\n",
        "display(Javascript('google.colab.output.setIframeHeight(0, true, {maxHeight: 200})'))\n",
        "\n",
        "# Compute physical dimensions (for logging)\n",
        "img_w, img_h, phys_w, phys_h = compute_dims(Image.open(sample_img_path))\n",
        "\n",
        "# Optimize\n",
        "T_best, H_best, errors = optimize(mask, H_init, max_heat, img_w, img_h, phys_w, phys_h, cfg)\n",
        "print(f\"Optimization completed in {len(errors)} iterations.\")"
      ],
      "metadata": {
        "id": "loyB1Ww7AJ3l"
      },
      "execution_count": null,
      "outputs": []
    },
    {
      "cell_type": "markdown",
      "source": [
        "###3-6. 👀 Save and Preview Optimized Pattern\n",
        "\n",
        "> We'll now save and display the optimized pattern image. If you're satisfied with the result, you can download the image later.\n",
        "\n"
      ],
      "metadata": {
        "id": "mCxPTsv2AmFt"
      }
    },
    {
      "cell_type": "code",
      "source": [
        "# Save pattern PDF\n",
        "pattern_pdf = save_pattern(sample_img_path, H_best, max_heat)\n",
        "print(f\"Saved optimized pattern to: {pattern_pdf}\")\n",
        "\n",
        "# Display the generated PDF inline in Colab\n",
        "with open(pattern_pdf, \"rb\") as pdf_file:\n",
        "    encoded_pdf = base64.b64encode(pdf_file.read()).decode('utf-8')\n",
        "IFrame(f\"data:application/pdf;base64,{encoded_pdf}\", width=400, height=400)"
      ],
      "metadata": {
        "id": "E04qrxyV-eU8"
      },
      "execution_count": null,
      "outputs": []
    },
    {
      "cell_type": "markdown",
      "source": [
        "### 3-7. 👀 Show Swell Pattern and Temperature Distribution\n",
        "\n",
        "> See side-by-side visualizations of the simulated raised texture (swell pattern) and temperature across the sheet (temperature distribution).\n",
        "\n"
      ],
      "metadata": {
        "id": "N5AJMIUXsIGB"
      }
    },
    {
      "cell_type": "code",
      "source": [
        "def display_plots(plots):\n",
        "  fig, (ax_swell, ax_temperature) = plt.subplots(1, 2, figsize=(4 * 2, 4))\n",
        "\n",
        "  img_plot = Image.open(plots[0])\n",
        "  ax_swell.imshow(img_plot)\n",
        "  ax_swell.axis('off')\n",
        "  ax_swell.set_title('Swell Pattern')\n",
        "\n",
        "  img_plot = Image.open(plots[1])\n",
        "  ax_temperature.imshow(img_plot)\n",
        "  ax_temperature.axis('off')\n",
        "  ax_temperature.set_title('Temperature Distribution [C°]')\n",
        "\n",
        "  plt.tight_layout()\n",
        "  plt.show()\n",
        "\n",
        "# Save and display plots with matplotlib\n",
        "plots = save_plots(T_best, phys_w, phys_h, sample_img_path, dpi=72)\n",
        "display_plots(plots)"
      ],
      "metadata": {
        "id": "T8QH6_GMsVPF"
      },
      "execution_count": null,
      "outputs": []
    },
    {
      "cell_type": "markdown",
      "source": [
        "### 3-8. 💾 Download Optimized Pattern\n",
        "\n",
        "> Finally, grab the PDF file you just created. You’re ready to print and experiment!"
      ],
      "metadata": {
        "id": "Ld29_qKduCVT"
      }
    },
    {
      "cell_type": "code",
      "source": [
        "# Ask user if they want to download the PDF locally\n",
        "def download_pdf(pdf_file):\n",
        "  download_choice = input('Do you want to download the optimized PDF? (y/n): ').strip().lower()\n",
        "  if download_choice == 'y':\n",
        "      files.download(str(pdf_file))\n",
        "\n",
        "download_pdf(pattern_pdf)"
      ],
      "metadata": {
        "id": "xeteORC_uMDz"
      },
      "execution_count": null,
      "outputs": []
    },
    {
      "cell_type": "markdown",
      "source": [
        "###3-9. 📉 (Optional) Show Optimization Performance\n",
        "\n",
        "> If you're interested, you can also check how the pattern was improved through the optimization process. The “Outlier Cells” indicate the percentage of areas that did not match the original pattern after photothermal processing. In other words, if this value reaches zero, it means the simulated swell pattern perfectly matches the original image."
      ],
      "metadata": {
        "id": "u4ppfYWPA5S7"
      }
    },
    {
      "cell_type": "code",
      "source": [
        "# Plot normalized error progression over iterations\n",
        "def plot_error_progression(errors, cfg):\n",
        "  errors_norm = [e * 100 / cfg.resolution for e in errors]\n",
        "  plt.figure(figsize=(6,4))\n",
        "  plt.plot(errors_norm)\n",
        "  plt.xlabel('Iteration')\n",
        "  plt.ylabel('Outlier Cells [%]')\n",
        "  plt.title('Optimization Error Progress')\n",
        "  plt.show()\n",
        "\n",
        "plot_error_progression(errors, cfg)"
      ],
      "metadata": {
        "id": "kcRinr0aA4cu"
      },
      "execution_count": null,
      "outputs": []
    },
    {
      "cell_type": "markdown",
      "source": [
        "## 4. Optimize Your Pattern\n",
        "**Overview:** We optimize the pattern of your choice.\n",
        "0. **If you skip Sec. 3**,  Define Previous Functions\n",
        "1. 📁 Upload Your Pattern\n",
        "2. 🔧 Prepare for Optimization & 👀 Preview It\n",
        "3. 🔁 Run Optimization\n",
        "4. 👀 Save & Preview Optimized Pattern\n",
        "5. 👀 Show Swell Pattern & Temperature Distribution\n",
        "6. 💾 Download Optimized Pattern\n",
        "7. 📉 (Optional) Show Optimization Performance"
      ],
      "metadata": {
        "id": "ay2GXkzFPJuT"
      }
    },
    {
      "cell_type": "markdown",
      "source": [
        "### 4-0. **If you skip Sec. 3**, Define Previous Functions  \n",
        "> If you are jumping straight into this section without running the previous cells, this cell re-loads or re-defines all helper functions (like config loading, and optimization routines) so everything runs smoothly."
      ],
      "metadata": {
        "id": "a7dLc_OzXbL_"
      }
    },
    {
      "cell_type": "code",
      "source": [
        "# Locate the bundled config.json inside the installed package\n",
        "def get_default_config_path():\n",
        "    return pkg_resources.as_file(\n",
        "        pkg_resources.files(\"sbl_optimizer.assets\") / \"config.json\"\n",
        "    )\n",
        "\n",
        "# Visualize the initialized print pattern using matplotlib\n",
        "def visualize_init_pattern(H_init, max_heat):\n",
        "  plt.figure(figsize=(4,4))\n",
        "  plt.imshow(H_init/max_heat, cmap='gray_r', vmin=0.0, vmax=1.0)\n",
        "  plt.axis('off')\n",
        "  plt.title(\"Initial print pattern\")\n",
        "  plt.show()\n",
        "\n",
        "# Visualize the swell pattern and temperature distribution using matplotlib heatmap\n",
        "def display_plots(plots):\n",
        "  fig, (ax_swell, ax_temperature) = plt.subplots(1, 2, figsize=(4 * 2, 4))\n",
        "  img_plot = Image.open(plots[0])\n",
        "  ax_swell.imshow(img_plot)\n",
        "  ax_swell.axis('off')\n",
        "  ax_swell.set_title('Swell Pattern')\n",
        "  img_plot = Image.open(plots[1])\n",
        "  ax_temperature.imshow(img_plot)\n",
        "  ax_temperature.axis('off')\n",
        "  ax_temperature.set_title('Temperature Distribution [C°]')\n",
        "  plt.tight_layout()\n",
        "  plt.show()\n",
        "\n",
        "# Ask user if they want to download the PDF locally\n",
        "def download_pdf(pdf_file):\n",
        "  download_choice = input('Do you want to download the optimized PDF? (y/n): ').strip().lower()\n",
        "  if download_choice == 'y':\n",
        "      files.download(str(pdf_file))\n",
        "\n",
        "# Plot normalized error progression over iterations\n",
        "def plot_error_progression(errors, cfg):\n",
        "  errors_norm = [e * 100 / cfg.resolution for e in errors]\n",
        "  plt.figure(figsize=(6,4))\n",
        "  plt.plot(errors_norm)\n",
        "  plt.xlabel('Iteration')\n",
        "  plt.ylabel('Outlier Cells [%]')\n",
        "  plt.title('Optimization Error Progress')\n",
        "  plt.show()\n",
        "\n",
        "\n",
        "# Load the default configuration file\n",
        "with get_default_config_path() as config_path:\n",
        "    with open(config_path) as f:\n",
        "        cfg_data = json.load(f)\n",
        "print(\"Default configuration:\")\n",
        "for k, v in cfg_data.items():\n",
        "    print(f\"- {k}: {v}\")\n",
        "# Create Config object\n",
        "cfg = Config.from_file(config_path)"
      ],
      "metadata": {
        "id": "mSCfjU1CXunK"
      },
      "execution_count": null,
      "outputs": []
    },
    {
      "cell_type": "markdown",
      "source": [
        "### 4-1. 📁 Upload Your Pattern  \n",
        "> Select JPG or PNG image from your computer. Once you click Choose Files and pick your image, it will appear below."
      ],
      "metadata": {
        "id": "6dDTuZ9dRhpV"
      }
    },
    {
      "cell_type": "code",
      "source": [
        "def upload_image():\n",
        "  \"\"\"\n",
        "  Prompt the user to upload an image and save it to the working directory.\n",
        "  Returns:\n",
        "      Path object pointing to the uploaded image file.\n",
        "  \"\"\"\n",
        "  uploaded = files.upload()  # Opens upload dialog\n",
        "  if not uploaded:\n",
        "      raise ValueError(\"No file uploaded.\")\n",
        "  # Get the first uploaded filename\n",
        "  filename = next(iter(uploaded.keys()))\n",
        "  print(f\"Uploaded file: {filename}\")\n",
        "  return Path(filename)\n",
        "\n",
        "your_img_path = upload_image()\n",
        "your_img = Image.open(your_img_path)\n",
        "plt.figure(figsize=(4,4))\n",
        "plt.imshow(your_img)\n",
        "plt.axis('off')\n",
        "plt.title(\"Uploaded Input Image\")\n",
        "plt.show()"
      ],
      "metadata": {
        "id": "NMJGdLVCPVN6"
      },
      "execution_count": null,
      "outputs": []
    },
    {
      "cell_type": "markdown",
      "source": [
        "### 4-2. 🔧 Prepare for Optimization & 👀 Preview It  \n",
        "> We'll first make the patterned areas of the image a uniform gray. Then, we'll adjust the image resolution to match that of the simulation. The preprocessed image is shown below. This represents the pre-optimization state."
      ],
      "metadata": {
        "id": "L9PuhfjERrcf"
      }
    },
    {
      "cell_type": "code",
      "source": [
        "mask_yours, H_init_yours, max_heat_yours = image_to_heat_pattern(your_img_path, cfg)\n",
        "visualize_init_pattern(H_init_yours, max_heat_yours)"
      ],
      "metadata": {
        "id": "MddVonkRRVKp"
      },
      "execution_count": null,
      "outputs": []
    },
    {
      "cell_type": "markdown",
      "source": [
        "### 4-3. 🔁 Run Optimization  \n",
        "> The goal of this optimization is to create a swell pattern that closely resembles the original design, even after heat conduction occurs within the paper. If we simply make the entire pattern uniformly gray or black, the wider lines tend to overheat while the thinner ones don’t heat up enough due to the heat conduction. As a result, the temperature distribution won't match the original image, and the heat-based swells won’t either. To address this, we perform “optimization” to adjust the shading in different areas so that the resulting temperature distribution, after heat conduction, matches the original image as closely as possible."
      ],
      "metadata": {
        "id": "j2sTeLQqSW00"
      }
    },
    {
      "cell_type": "code",
      "source": [
        "%%time\n",
        "# Set the maximum height of the output\n",
        "display(Javascript('google.colab.output.setIframeHeight(0, true, {maxHeight: 200})'))\n",
        "\n",
        "# Compute physical dimensions (for logging)\n",
        "img_w_yours, img_h_yours, phys_w_yours, phys_h_yours = compute_dims(Image.open(your_img_path))\n",
        "\n",
        "# Optimize\n",
        "T_best_yours, H_best_yours, errors_yours = optimize(mask_yours, H_init_yours, max_heat_yours, img_w_yours, img_h_yours, phys_w_yours, phys_h_yours, cfg)\n",
        "print(f\"Optimization completed in {len(errors_yours)} iterations.\")"
      ],
      "metadata": {
        "id": "18HM1QaESLHD"
      },
      "execution_count": null,
      "outputs": []
    },
    {
      "cell_type": "markdown",
      "source": [
        "### 4-4. 👀 Save & Preview Optimized Pattern  \n",
        "> We'll now save and display the optimized pattern image. If you're satisfied with the result, you can download the image later."
      ],
      "metadata": {
        "id": "_YKmrkjFU3Sg"
      }
    },
    {
      "cell_type": "code",
      "source": [
        "# Save pattern PDF\n",
        "pattern_pdf_yours = save_pattern(your_img_path, H_best_yours, max_heat_yours)\n",
        "print(f\"Saved optimized pattern to: {pattern_pdf_yours}\")\n",
        "\n",
        "# Display the generated PDF inline in Colab\n",
        "with open(pattern_pdf_yours, \"rb\") as pdf_file:\n",
        "    encoded_pdf_yours = base64.b64encode(pdf_file.read()).decode('utf-8')\n",
        "IFrame(f\"data:application/pdf;base64,{encoded_pdf_yours}\", width=400, height=400)"
      ],
      "metadata": {
        "id": "d5_z1KVISrk4"
      },
      "execution_count": null,
      "outputs": []
    },
    {
      "cell_type": "markdown",
      "source": [
        "###4-5. 👀 Show Swell Pattern & Temperature Distribution\n",
        "\n",
        "> See side-by-side visualizations of the simulated raised texture (swell pattern) and temperature across the sheet (temperature distribution)."
      ],
      "metadata": {
        "id": "xNyyC1Q6VD5m"
      }
    },
    {
      "cell_type": "code",
      "source": [
        "# Save and display plots with matplotlib\n",
        "plots_yours = save_plots(T_best_yours, phys_w_yours, phys_h_yours, your_img_path, dpi=72)\n",
        "display_plots(plots_yours)"
      ],
      "metadata": {
        "id": "dhKY6v88TIrX"
      },
      "execution_count": null,
      "outputs": []
    },
    {
      "cell_type": "markdown",
      "source": [
        "###4-6. 💾 Download Optimized Pattern\n",
        "\n",
        ">Finally, grab the PDF file you just created. You’re ready to print and experiment!"
      ],
      "metadata": {
        "id": "FtZUXAMQVb_R"
      }
    },
    {
      "cell_type": "code",
      "source": [
        "download_pdf(pattern_pdf_yours)"
      ],
      "metadata": {
        "id": "qxwi9biBUG51"
      },
      "execution_count": null,
      "outputs": []
    },
    {
      "cell_type": "markdown",
      "source": [
        "###4-7. 📉 (Optional) Show Optimization Performance\n",
        "\n",
        "> If you're interested, you can also check how the pattern was improved through the optimization process. The “Outlier Cells” indicate the percentage of areas that did not match the original pattern after photothermal processing. In other words, if this value reaches zero, it means the simulated swell pattern perfectly matches the original image."
      ],
      "metadata": {
        "id": "4Gk7WbR2WF1P"
      }
    },
    {
      "cell_type": "code",
      "source": [
        "plot_error_progression(errors_yours, cfg)"
      ],
      "metadata": {
        "id": "R4RIGcrHVjMw"
      },
      "execution_count": null,
      "outputs": []
    },
    {
      "cell_type": "markdown",
      "source": [
        "##5. Change Configuration\n",
        "**Overview:** We optimize the pattern of your choice with customized simulation settings (configuration).\n",
        "0. **If you skip Sec. 3 & 4**,  Define Previous Functions\n",
        "1. ⚙️ Customize Settings\n",
        "2. 📁 Upload Your Pattern\n",
        "3. 🔧 Prepare for Optimization & 👀 Preview It\n",
        "4. 🔁 Run Optimization with Custom Settings\n",
        "5. 👀 Save & Preview Optimized Pattern\n",
        "6. 👀 Show Swell Pattern & Temperature Distribution\n",
        "7. 💾 Download Optimized Pattern\n",
        "8. 📉 (Optional) Show Optimization Performance"
      ],
      "metadata": {
        "id": "uHP6gd2SYqIg"
      }
    },
    {
      "cell_type": "markdown",
      "source": [
        "###5-0. **If you skip Sec. 3 & 4**,  Define Previous Functions\n",
        ">If you are jumping straight into this section without running the Section 3 & 4, this cell re-loads or re-defines all helper functions so everything runs smoothly."
      ],
      "metadata": {
        "id": "zMq7t065bBps"
      }
    },
    {
      "cell_type": "code",
      "source": [
        "# Locate the bundled config.json inside the installed package\n",
        "def get_default_config_path():\n",
        "    return pkg_resources.as_file(\n",
        "        pkg_resources.files(\"sbl_optimizer.assets\") / \"config.json\"\n",
        "    )\n",
        "\n",
        "# Visualize the initialized print pattern using matplotlib\n",
        "def visualize_init_pattern(H_init, max_heat):\n",
        "  plt.figure(figsize=(4,4))\n",
        "  plt.imshow(H_init/max_heat, cmap='gray_r', vmin=0.0, vmax=1.0)\n",
        "  plt.axis('off')\n",
        "  plt.title(\"Initial print pattern\")\n",
        "  plt.show()\n",
        "\n",
        "# Visualize the swell pattern and temperature distribution using matplotlib heatmap\n",
        "def display_plots(plots):\n",
        "  fig, (ax_swell, ax_temperature) = plt.subplots(1, 2, figsize=(4 * 2, 4))\n",
        "  img_plot = Image.open(plots[0])\n",
        "  ax_swell.imshow(img_plot)\n",
        "  ax_swell.axis('off')\n",
        "  ax_swell.set_title('Swell Pattern')\n",
        "  img_plot = Image.open(plots[1])\n",
        "  ax_temperature.imshow(img_plot)\n",
        "  ax_temperature.axis('off')\n",
        "  ax_temperature.set_title('Temperature Distribution [C°]')\n",
        "  plt.tight_layout()\n",
        "  plt.show()\n",
        "\n",
        "# Ask user if they want to download the PDF locally\n",
        "def download_pdf(pdf_file):\n",
        "  download_choice = input('Do you want to download the optimized PDF? (y/n): ').strip().lower()\n",
        "  if download_choice == 'y':\n",
        "      files.download(str(pdf_file))\n",
        "\n",
        "# Plot normalized error progression over iterations\n",
        "def plot_error_progression(errors, cfg):\n",
        "  errors_norm = [e * 100 / cfg.resolution for e in errors]\n",
        "  plt.figure(figsize=(6,4))\n",
        "  plt.plot(errors_norm)\n",
        "  plt.xlabel('Iteration')\n",
        "  plt.ylabel('Outlier Cells [%]')\n",
        "  plt.title('Optimization Error Progress')\n",
        "  plt.show()\n",
        "\n",
        "# Upload image\n",
        "def upload_image():\n",
        "  \"\"\"\n",
        "  Prompt the user to upload an image and save it to the working directory.\n",
        "  Returns:\n",
        "      Path object pointing to the uploaded image file.\n",
        "  \"\"\"\n",
        "  uploaded = files.upload()  # Opens upload dialog\n",
        "  if not uploaded:\n",
        "      raise ValueError(\"No file uploaded.\")\n",
        "  # Get the first uploaded filename\n",
        "  filename = next(iter(uploaded.keys()))\n",
        "  print(f\"Uploaded file: {filename}\")\n",
        "  return Path(filename)"
      ],
      "metadata": {
        "id": "S-9VLDMda7VR"
      },
      "execution_count": null,
      "outputs": []
    },
    {
      "cell_type": "markdown",
      "source": [
        "###5-1. ⚙️ Customize Settings\n",
        "\n",
        "| Key | Type | Default | Description |\n",
        "|-----|------|---------|-------------|\n",
        "| `swell_temperature` | float | 145 [C°] | Target swelling temperature. Adjust this based on the swell temperature of the paste you have. |\n",
        "| `light_power`       | float | 100.0 [W] |Light source power. Adjust this according to your light's power. |\n",
        "| `light_diameter`    | float | 0.06 [m] | Diameter of the light circle on paper (m). Adjust based on the light circle diameter during heating. |\n",
        "| `alpha`             | float | 5e-07 [m²/s] | Thermal diffusivity of paper. |\n",
        "| `verbose`           | int   | 1 | Bool enabling logging. 0: turned off; 1: turned on. |\n",
        "| `resolution`        | int   | 120000 | Number of cells paper is divided into in thermal simulations. Reduce this for faster optimization. Increase for a finer result. |\n",
        "\n",
        "> It's best to start with the default values and see how the resulting swell pattern turns out. If it doesn’t look as expected, you can make adjustments as needed. Depending on the materials you're using, you can directly edit the numerical values in the following cell:\n",
        "\n"
      ],
      "metadata": {
        "id": "jNyYGd1sY4Z_"
      }
    },
    {
      "cell_type": "code",
      "source": [
        "custom_cfg_contents = {\n",
        "    \"swell_temperature\": 140.0,\n",
        "    \"light_power\": 120.0,\n",
        "    \"light_diameter\": 0.08,\n",
        "    \"alpha\": 5e-07,\n",
        "    \"verbose\": 0,\n",
        "    \"resolution\": 240000\n",
        "}"
      ],
      "metadata": {
        "id": "dt6WqPYlY2Gq"
      },
      "execution_count": null,
      "outputs": []
    },
    {
      "cell_type": "code",
      "source": [
        "# Write to a JSON file in the notebook workspace\n",
        "custom_config_path = Path(\"custom_config.json\")\n",
        "with open(custom_config_path, \"w\") as f:\n",
        "    json.dump(custom_cfg_contents, f, indent=4)\n",
        "print(f\"Custom config written to: {custom_config_path}\")\n",
        "\n",
        "# Load and instantiate Config from this custom file\n",
        "cfg_custom = Config.from_file(custom_config_path)\n",
        "print(\"Loaded custom Config:\")\n",
        "for k, v in custom_cfg_contents.items():\n",
        "    print(f\"- {k}: {v}\")"
      ],
      "metadata": {
        "id": "5xjhfvcxcnK2"
      },
      "execution_count": null,
      "outputs": []
    },
    {
      "cell_type": "markdown",
      "source": [
        "###5-2. 📁 Upload Your Pattern (.jpg or .png)\n",
        "> Select JPG or PNG image from your computer. Once you click Choose Files and pick your image, it will appear below."
      ],
      "metadata": {
        "id": "x1bfR0oIdkU7"
      }
    },
    {
      "cell_type": "code",
      "source": [
        "your_img_path_c = upload_image()\n",
        "your_img_c = Image.open(your_img_path_c)\n",
        "plt.figure(figsize=(4,4))\n",
        "plt.imshow(your_img_c)\n",
        "plt.axis('off')\n",
        "plt.title(\"Uploaded Input Image\")\n",
        "plt.show()"
      ],
      "metadata": {
        "id": "ObgU3OeZdkVG"
      },
      "execution_count": null,
      "outputs": []
    },
    {
      "cell_type": "markdown",
      "source": [
        "### 5-3. 🔧 Prepare for Optimization & 👀 Preview It  \n",
        "> We'll first make the patterned areas of the image a uniform gray. Then, we'll adjust the image resolution to match that of the simulation. The preprocessed image is shown below. This represents the pre-optimization state."
      ],
      "metadata": {
        "id": "mdXQj160Q3p9"
      }
    },
    {
      "cell_type": "code",
      "source": [
        "mask_yours_c, H_init_yours_c, max_heat_yours_c = image_to_heat_pattern(your_img_path_c, cfg_custom)\n",
        "visualize_init_pattern(H_init_yours_c, max_heat_yours_c)"
      ],
      "metadata": {
        "id": "uT0PuzLEQ3qC"
      },
      "execution_count": null,
      "outputs": []
    },
    {
      "cell_type": "markdown",
      "source": [
        "###5-4. 🔁 Run Optimization with Custom Settings\n",
        "> The goal of this optimization is to create a swell pattern that closely resembles the original design, even after heat conduction occurs within the paper. If we simply make the entire pattern uniformly gray or black, the wider lines tend to overheat while the thinner ones don’t heat up enough due to the heat conduction. As a result, the temperature distribution won't match the original image, and the heat-based swells won’t either. To address this, we perform “optimization” to adjust the shading in different areas so that the resulting temperature distribution, after heat conduction, matches the original image as closely as possible. The simulation is based on the custom parameters you set [here](#scrollTo=jNyYGd1sY4Z_)."
      ],
      "metadata": {
        "id": "fl5GQtxtfOKb"
      }
    },
    {
      "cell_type": "code",
      "source": [
        "%%time\n",
        "# Set the maximum height of the output\n",
        "display(Javascript('google.colab.output.setIframeHeight(0, true, {maxHeight: 200})'))\n",
        "\n",
        "# Compute physical dimensions (for logging)\n",
        "img_w_yours_c, img_h_yours_c, phys_w_yours_c, phys_h_yours_c = compute_dims(Image.open(your_img_path_c))\n",
        "\n",
        "# Optimize\n",
        "T_best_yours_c, H_best_yours_c, errors_yours_c = optimize(mask_yours_c, H_init_yours_c, max_heat_yours_c, img_w_yours_c, img_h_yours_c, phys_w_yours_c, phys_h_yours_c, cfg_custom)\n",
        "print(f\"Optimization completed in {len(errors_yours_c)} iterations.\")"
      ],
      "metadata": {
        "id": "UzKd3h5CfOKc"
      },
      "execution_count": null,
      "outputs": []
    },
    {
      "cell_type": "markdown",
      "source": [
        "### 5-5. 👀 Save & Preview Optimized Pattern  \n",
        "> We'll now save and display the optimized pattern image. If you're satisfied with the result, you can download the image later."
      ],
      "metadata": {
        "id": "ETxSmw6wmTFm"
      }
    },
    {
      "cell_type": "code",
      "source": [
        "# Save pattern PDF\n",
        "pattern_pdf_yours_c = save_pattern(your_img_path_c, H_best_yours_c, max_heat_yours_c)\n",
        "print(f\"Saved optimized pattern to: {pattern_pdf_yours_c}\")\n",
        "\n",
        "# Display the generated PDF inline in Colab\n",
        "with open(pattern_pdf_yours_c, \"rb\") as pdf_file:\n",
        "    encoded_pdf_yours_c = base64.b64encode(pdf_file.read()).decode('utf-8')\n",
        "IFrame(f\"data:application/pdf;base64,{encoded_pdf_yours_c}\", width=400, height=400)"
      ],
      "metadata": {
        "id": "wftfUnLXhFNl"
      },
      "execution_count": null,
      "outputs": []
    },
    {
      "cell_type": "markdown",
      "source": [
        "###5-6. 👀 Show Swell Pattern & Temperature Distribution\n",
        "\n",
        "> See side-by-side visualizations of the simulated raised texture (swell pattern) and temperature across the sheet (temperature distribution)."
      ],
      "metadata": {
        "id": "PfLU5X5VmhG8"
      }
    },
    {
      "cell_type": "code",
      "source": [
        "# Save and display plots with matplotlib\n",
        "plots_yours_c = save_plots(T_best_yours_c, phys_w_yours_c, phys_h_yours_c, your_img_path_c, dpi=72)\n",
        "display_plots(plots_yours_c)"
      ],
      "metadata": {
        "id": "UiIS8pDmiQQG"
      },
      "execution_count": null,
      "outputs": []
    },
    {
      "cell_type": "markdown",
      "source": [
        "###5-7. 💾 Download Optimized Pattern\n",
        "\n",
        ">Finally, grab the PDF file you just created. You’re ready to print and experiment!"
      ],
      "metadata": {
        "id": "tGR8fb90msO_"
      }
    },
    {
      "cell_type": "code",
      "source": [
        "download_pdf(pattern_pdf_yours_c)"
      ],
      "metadata": {
        "id": "_0tYdRDiiiDM"
      },
      "execution_count": null,
      "outputs": []
    },
    {
      "cell_type": "markdown",
      "source": [
        "###5-8. 📉 (Optional) Show Optimization Performance\n",
        "\n",
        "> If you're interested, you can also check how the pattern was improved through the optimization process. The “Outlier Cells” indicate the percentage of areas that did not match the original pattern after photothermal processing. In other words, if this value reaches zero, it means the simulated swell pattern perfectly matches the original image."
      ],
      "metadata": {
        "id": "jSNf4gKUmzKA"
      }
    },
    {
      "cell_type": "code",
      "source": [
        "plot_error_progression(errors_yours_c, cfg_custom)"
      ],
      "metadata": {
        "id": "WGXl8ZFwirDe"
      },
      "execution_count": null,
      "outputs": []
    },
    {
      "cell_type": "markdown",
      "source": [
        "## 6. Troubleshooting & FAQ"
      ],
      "metadata": {
        "id": "-pFXIm8gfsJX"
      }
    },
    {
      "cell_type": "markdown",
      "source": [
        "**Q: What file types work?**  \n",
        "A: You can upload JPG or PNG images.\n",
        "\n",
        "**Q: My image didn’t upload.**  \n",
        "A: Make sure you click the **Choose Files** button and pick a valid image. Re-run the cell if it fails.\n",
        "\n",
        "**Q: I see an error during optimization.**  \n",
        "A: Check that your file is not too large. Try a smaller image and re-run.\n",
        "\n",
        "**Q: How long does the optimization take?**  \n",
        "A: On Colab, it may take a minute or two.\n",
        "\n",
        "**Tip:** If something goes wrong, restart the notebook (Runtime → Restart runtime) and re-run from the top.\n",
        "\n",
        "Still having trouble? Contact\n",
        "\n",
        "[![@RefreshSource](https://img.shields.io/badge/@RefreshSource-black?logo=x&logoColor=white)](https://x.com/refreshsource)\n",
        "[![Email](https://img.shields.io/badge/sosuke.ichihashi@gmail.com-black?logo=gmail&logoColor=white)](mailto:sosuke.ichihashi@gmail.com)"
      ],
      "metadata": {
        "id": "cCtlq_IlbDJs"
      }
    },
    {
      "cell_type": "markdown",
      "source": [
        "## 7. Credits & License\n",
        "###License\n",
        ">This project is licensed under the [MIT License](https://github.com/sosucat/sbl-optimizer-colab/blob/main/LICENSE).\n",
        "\n",
        "\n",
        "###Developer\n",
        ">Sosuke Ichihashi\n",
        "\n",
        "> [![Sosuke Ichihashi](https://img.shields.io/badge/Sosuke_Ichihashi-black?logo=googlescholar&logoColor=white)](https://sosuke-ichihashi.com/)\n",
        "[![@sosucat](https://img.shields.io/badge/@sosucat-black?logo=github&logoColor=white)](https://github.com/sosucat)\n",
        "[![@RefreshSource](https://img.shields.io/badge/@RefreshSource-black?logo=x&logoColor=white)](https://x.com/refreshsource)\n",
        "\n",
        "\n",
        "###Cite this work\n",
        "> If you use **sbl-optimizer** in your research or projects, please cite:\n",
        "* Sosuke Ichihashi, Noura Howell, and HyunJoo Oh. 2025.\\\n",
        "Swell by Light: An Approachable Technique for Freeform Raised Textures. \\\n",
        "In Proceedings of the Nineteenth International Conference on Tangible, Embedded, and Embodied Interaction (TEI '25). Association for Computing Machinery, New York, NY, USA, Article 45, 1–16. https://doi.org/10.1145/3689050.3704420\n",
        "```bibtex\n",
        "@inproceedings{10.1145/3689050.3704420,\n",
        "author = {Ichihashi, Sosuke and Howell, Noura and Oh, HyunJoo},\n",
        "title = {Swell by Light: An Approachable Technique for Freeform Raised Textures},\n",
        "year = {2025},\n",
        "isbn = {9798400711978},\n",
        "publisher = {Association for Computing Machinery},\n",
        "address = {New York, NY, USA},\n",
        "url = {https://doi.org/10.1145/3689050.3704420},\n",
        "doi = {10.1145/3689050.3704420},\n",
        "booktitle = {Proceedings of the Nineteenth International Conference on Tangible, Embedded, and Embodied Interaction},\n",
        "articleno = {45},\n",
        "numpages = {16},\n",
        "keywords = {2.5D fabrication, Personal fabrication, tactile rendering},\n",
        "location = {Bordeaux / Talence, France},\n",
        "series = {TEI '25}\n",
        "}\n",
        "```"
      ],
      "metadata": {
        "id": "q2DhdMj88Kec"
      }
    },
    {
      "cell_type": "markdown",
      "source": [
        "## 8. Next Steps\n",
        "**Ready for more? Here’s where to explore further:**\n",
        "\n",
        "\n",
        "🎨 **Fabrication Tutorial**\n",
        "\n",
        "> See the step-by-step fabrication tutorial on our website and YouTube.\n",
        "\n",
        ">[![Fabrication](https://img.shields.io/badge/🔗_Fabrication-black)](https://sites.gatech.edu/futurefeelings/2025/07/23/make-puffy-patterns-with-light/)\n",
        "[![Watch fabrication demo on YouTube](https://img.shields.io/badge/Fabrication-750014?logo=youtube)](https://youtu.be/LomVS_jHxl0?feature=shared)\n",
        "\n",
        "\n",
        "🔗 **Project Page**\n",
        "\n",
        "> Read more about the project and example applications on our project page.\n",
        "\n",
        ">[![Project page](https://img.shields.io/badge/🔗_Project_Page-black)](https://sites.gatech.edu/futurefeelings/2025/03/07/swell-by-light-tei-25/)\n",
        "\n",
        "\n",
        "📄 **Research Paper**\n",
        "\n",
        "> Explore various application examples of Swell by Light and learn the theory and related work behind it in our paper.\n",
        "\n",
        ">[![Research paper](https://img.shields.io/badge/Research_Paper-black?logo=acm)](https://doi.org/10.1145/3689050.3704420)\n",
        "\n",
        "\n",
        "👩‍💻 **Local Command Line Interface**\n",
        "\n",
        "> Follow the tutorials on PyPI or GitHub to use sbl-optimizer in a simpler way on your machine.\n",
        "\n",
        ">[![PyPI version](https://badge.fury.io/py/sbl-optimizer.svg)](https://badge.fury.io/py/sbl-optimizer) [![GitHub](https://img.shields.io/badge/sbl--optimizer-black?logo=github)](https://github.com/sosucat/sbl-optimizer)\n",
        "\n",
        "\n",
        "🦙 **Simblified Colab Notebook**\n",
        "\n",
        "> Check out this blackboxed version for future iterations.\n",
        "\n",
        ">[![Simpler Colab](https://img.shields.io/badge/Simpler_Colab_Notebook-black?logo=googlecolab)](https://colab.research.google.com/drive/1Kpvq15wZrzsnQI28_JfkDSqCwT1ouyxj?usp=sharing)\n",
        "\n",
        "\n",
        "👨‍💻 **Source Code & Issues**\n",
        "\n",
        "> Visit our GitHub repository to report issues, contribute, or see the latest developments.\n",
        "\n",
        ">[![GitHub sbl-optimizer](https://img.shields.io/badge/sbl--optimizer-black?logo=github)](https://github.com/sosucat/sbl-optimizer)\n",
        "[![GitHub sbl-optimizer-colab](https://img.shields.io/badge/This_Notebook-black?logo=github)](https://github.com/sosucat/sbl-optimizer-colab)\n",
        "\n",
        "\n",
        "🕵️‍♂️ **Author’s Website**\n",
        "\n",
        "> Discover more work by Sosuke Ichihashi.\n",
        "\n",
        ">[![Author](https://img.shields.io/badge/Author-black?logo=googlescholar&logoColor=white)](https://sosuke-ichihashi.com/)\n",
        "\n",
        "\n",
        "*Happy fabricating!*"
      ],
      "metadata": {
        "id": "af-mVoGqfRIf"
      }
    },
    {
      "cell_type": "code",
      "source": [],
      "metadata": {
        "id": "Wh1sJsG3KbCP"
      },
      "execution_count": null,
      "outputs": []
    }
  ]
}