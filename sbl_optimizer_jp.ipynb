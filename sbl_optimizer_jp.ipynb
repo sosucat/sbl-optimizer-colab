{
  "nbformat": 4,
  "nbformat_minor": 0,
  "metadata": {
    "colab": {
      "provenance": [],
      "collapsed_sections": [
        "vkd63QF86-g3",
        "mHjEnEtZ7azV",
        "jEwPKC3COIbX",
        "KIm3Jy5W7BhG",
        "CEfnkB8o88wk",
        "FUYGnY9Z-Y5A",
        "JzJTzQcm1HyG",
        "bMiKovWfAPkl",
        "mCxPTsv2AmFt",
        "N5AJMIUXsIGB",
        "Ld29_qKduCVT",
        "u4ppfYWPA5S7",
        "ay2GXkzFPJuT",
        "a7dLc_OzXbL_",
        "6dDTuZ9dRhpV",
        "cN72bXeVSiNo",
        "j2sTeLQqSW00",
        "_YKmrkjFU3Sg",
        "xNyyC1Q6VD5m",
        "FtZUXAMQVb_R",
        "4Gk7WbR2WF1P",
        "uHP6gd2SYqIg",
        "zMq7t065bBps",
        "jNyYGd1sY4Z_",
        "x1bfR0oIdkU7",
        "mdXQj160Q3p9",
        "fl5GQtxtfOKb",
        "ETxSmw6wmTFm",
        "PfLU5X5VmhG8",
        "tGR8fb90msO_",
        "jSNf4gKUmzKA"
      ],
      "authorship_tag": "ABX9TyMMUUoKt/YrAY1rhgjnxJEs",
      "include_colab_link": true
    },
    "kernelspec": {
      "name": "python3",
      "display_name": "Python 3"
    },
    "language_info": {
      "name": "python"
    }
  },
  "cells": [
    {
      "cell_type": "markdown",
      "metadata": {
        "id": "view-in-github",
        "colab_type": "text"
      },
      "source": [
        "<a href=\"https://colab.research.google.com/github/sosucat/sbl-optimizer-colab/blob/main/sbl_optimizer_jp.ipynb\" target=\"_parent\"><img src=\"https://colab.research.google.com/assets/colab-badge.svg\" alt=\"Open In Colab\"/></a>"
      ]
    },
    {
      "cell_type": "markdown",
      "source": [
        "# 💡 使用するためにはコピーして下さい\n",
        "\n",
        "このノートは **閲覧のみ**の設定です。\n",
        "ノートを使うためには、まず**コピーの保存**を行ってください:\n",
        "\n",
        "- 左上から:  **`ファイル → ドライブにコピーを保存`**\n",
        "\n",
        "- Googleドライブに作成されたコピーは、編集・実行可能です。\n",
        "\n",
        "- Googleアカウントにサインインする必要があります。\n"
      ],
      "metadata": {
        "id": "URwhubKT_sdR"
      }
    },
    {
      "cell_type": "markdown",
      "source": [
        "# **``🐐 sbl-optimizer``**<br>[Swell by Light](https://sites.gatech.edu/futurefeelings/2025/07/03/swell-by-light-tei-25-2/)の模様最適化ソフト\n",
        "[![PyPI version](https://badge.fury.io/py/sbl-optimizer.svg)](https://badge.fury.io/py/sbl-optimizer)\n",
        "[![sbl-optimizer](https://img.shields.io/badge/sbl--optimizer-black?logo=github)](https://github.com/sosucat/sbl-optimizer)\n",
        "\n",
        "[![Homepage](https://img.shields.io/badge/🔗_ホームベージ-black)](https://sites.gatech.edu/futurefeelings/2025/07/03/swell-by-light-tei-25-2/)\n",
        "[![Author](https://img.shields.io/badge/著者サイト-black?logo=googlescholar&logoColor=white)](https://sosuke-ichihashi.com/)\n",
        "[![Research paper](https://img.shields.io/badge/研究論文-black?logo=acm)](https://doi.org/10.1145/3689050.3704420)\n",
        "[![Fabrication](https://img.shields.io/badge/🔗_作り方-black)](https://sites.gatech.edu/futurefeelings/2025/07/23/%e5%85%89%e3%81%a7%e3%83%87%e3%82%b3%e3%83%9c%e3%82%b3%e3%82%82%e3%82%88%e3%81%86%e3%82%92%e4%bd%9c%e3%82%8d%e3%81%86%ef%bc%81/)\n",
        "[![Watch fabrication demo on YouTube](https://img.shields.io/badge/作り方-750014?logo=youtube)](https://youtu.be/LomVS_jHxl0?feature=shared)\n",
        "\n",
        "**sbl-optimizer** は、Swell by Lightで画像に忠実なデコボコ模様を作るため、画像の濃淡を修正するソフトです。\n",
        "\n",
        "**本ノートは上級者向け**なので、sbl-optimizerライブラリをPython環境で利用して模様画像を最適化する方法の詳細を理解できます。\n",
        "\n",
        "**sbl-optimizerをパッと使いたいだけの方は、以下の簡易版をおすすめ**します。\n",
        "簡易版では、プログラミングの知識がなくても、画像をアップロードしてセルを実行するだけで、最適化された画像を作ることができます。できあがった画像を印刷し、光を当てると、元画像の模様と同じようなデコボコ模様ができあがります。\n",
        "\n",
        "[![Simpler Colab](https://img.shields.io/badge/簡易版Colabノート-black?logo=googlecolab)](https://colab.research.google.com/drive/15zYmaNvh88jztUcqpzwLXtT4YMRk2i1G?usp=sharing)\n",
        "\n",
        "---\n",
        "\n",
        "\n",
        "![A printed pattern's shades change as the optimization progresses, and the resulting temperature distribution gets closer to the intended pattern.](https://sites.gatech.edu/futurefeelings/files/2025/03/opt_step.gif)\n",
        "\n",
        "画像の模様の濃淡を最適化することで、画像の模様（左）に近い、均一な温度分布（右）になり、画像に近いきれいなデコボコ模様ができます。\n",
        "この例では、最適化前（iteration: 0）は葉の部分が熱くなりすぎている一方で、茎の部分は加熱不足の状態でした。\n",
        "最適化が進むにつれて、葉の温度は下がり、茎の温度は上昇していき、結果としてより均一な温度分布が実現されています。\n",
        "\n",
        "---\n",
        "\n",
        "## 📑 目次\n",
        "1. [sbl-optimizerのインストール](#scrollTo=vkd63QF86-g3)  \n",
        "2. [ライブラリのインポート](#scrollTo=mHjEnEtZ7azV)  \n",
        "3. [クイックスタート：サンプル画像を最適化](#scrollTo=jEwPKC3COIbX)  \n",
        "4. [自前の模様を最適化](#scrollTo=ay2GXkzFPJuT)  \n",
        "5. [設定の変更](#scrollTo=uHP6gd2SYqIg)  \n",
        "6. [よくある質問 ＆ 問題の解決方法](#scrollTo=-pFXIm8gfsJX)\n",
        "7. [ライセンス ＆ 引用方法](#scrollTo=q2DhdMj88Kec)\n",
        "8. [発展](#scrollTo=af-mVoGqfRIf)\n",
        "\n",
        "---"
      ],
      "metadata": {
        "id": "aId0WYJ07opF"
      }
    },
    {
      "cell_type": "markdown",
      "source": [
        "## 1. sbl-optimizerのインストール\n",
        "> pipでPyPIから最新のsbl-optimizerをインストールします。"
      ],
      "metadata": {
        "id": "vkd63QF86-g3"
      }
    },
    {
      "cell_type": "code",
      "source": [
        "# Install the latest version from PyPI\n",
        "!pip install sbl-optimizer"
      ],
      "metadata": {
        "id": "PNqYaBUE67sz"
      },
      "execution_count": null,
      "outputs": []
    },
    {
      "cell_type": "markdown",
      "source": [
        "## 2. ライブラリのインポート\n",
        "\n",
        "> 必要なライブラリをインポートしておきます。"
      ],
      "metadata": {
        "id": "mHjEnEtZ7azV"
      }
    },
    {
      "cell_type": "code",
      "source": [
        "import json\n",
        "from pathlib import Path\n",
        "import matplotlib.pyplot as plt\n",
        "from PIL import Image\n",
        "import importlib.resources as pkg_resources\n",
        "from google.colab import files\n",
        "from IPython.display import IFrame, display, Javascript\n",
        "import base64\n",
        "\n",
        "from sbl_optimizer.config import Config\n",
        "from sbl_optimizer.heat_solver import image_to_heat_pattern, optimize\n",
        "from sbl_optimizer.utils import compute_dims\n",
        "from sbl_optimizer.io import save_pattern, save_plots"
      ],
      "metadata": {
        "id": "sgQanEBs7HPS"
      },
      "execution_count": null,
      "outputs": []
    },
    {
      "cell_type": "markdown",
      "source": [
        "##3. クイックスタート：サンプル画像の最適化\n",
        "**概要**： 模様画像を最適化し、その結果をダウンロードする方法をお見せします。今回は、sbl-optimizerが提供するサンプルの模様画像を最適化してみます。\n",
        "1. ⚙️ デフォルト設定の読み込み\n",
        "2. 🖼️ サンプル画像の読み込み\n",
        "3. 🔧 模様画像の事前処理\n",
        "4. 👀 事前処理されたサンプル画像の確認\n",
        "5. 🔁 最適化の実行\n",
        "6. 👀 最適化された模様画像の確認\n",
        "7. 👀 予想されるデコボコ模様と温度分布の確認\n",
        "8. 💾 最適化された模様画像のダウンロード\n",
        "9. 📉 （任意）最適化パフォーマンスの確認"
      ],
      "metadata": {
        "id": "jEwPKC3COIbX"
      }
    },
    {
      "cell_type": "markdown",
      "source": [
        "### 3-1. ⚙️ デフォルト設定の読み込み\n",
        "\n",
        "\n",
        "> まず、最適化で使用するパラメータ（ペーストが膨張する温度やシミュレーションの解像度など）を決めます。今回はデフォルトの設定にしておきます。\n",
        "\n"
      ],
      "metadata": {
        "id": "KIm3Jy5W7BhG"
      }
    },
    {
      "cell_type": "code",
      "source": [
        "# Locate the bundled config.json inside the installed package\n",
        "def get_default_config_path():\n",
        "    return pkg_resources.as_file(\n",
        "        pkg_resources.files(\"sbl_optimizer.assets\") / \"config.json\"\n",
        "    )\n",
        "\n",
        "with get_default_config_path() as config_path:\n",
        "    with open(config_path) as f:\n",
        "        cfg_data = json.load(f)\n",
        "\n",
        "print(\"Default configuration:\")\n",
        "for k, v in cfg_data.items():\n",
        "    print(f\"- {k}: {v}\")\n",
        "\n",
        "# Create Config object\n",
        "cfg = Config.from_file(config_path)"
      ],
      "metadata": {
        "id": "o11qiqx575xP"
      },
      "execution_count": null,
      "outputs": []
    },
    {
      "cell_type": "markdown",
      "source": [
        "### 3-2. 🖼️ サンプル画像の読み込み\n",
        "> 今回は最適化実行の一連の手順を見ることを優先し、ライブラリ付属のサンプル画像を読み込みます。"
      ],
      "metadata": {
        "id": "CEfnkB8o88wk"
      }
    },
    {
      "cell_type": "code",
      "source": [
        "with pkg_resources.as_file(\n",
        "    pkg_resources.files(\"sbl_optimizer.assets\") / \"sample.jpg\"\n",
        ") as sample_img_path:\n",
        "    img = Image.open(sample_img_path)\n",
        "    plt.figure(figsize=(4,4))\n",
        "    plt.imshow(img)\n",
        "    plt.axis('off')\n",
        "    plt.title(\"Sample Input Image\")\n",
        "    plt.show()"
      ],
      "metadata": {
        "id": "KzXNncUU76Pl"
      },
      "execution_count": null,
      "outputs": []
    },
    {
      "cell_type": "markdown",
      "source": [
        "### 3-3. 🔧 模様画像の事前処理\n",
        "\n",
        "\n",
        "> 模様画像の模様部分を均一な灰色にしておきます。また、シミュレーションの解像度に合わせて模様画像の解像度を変更します。\n"
      ],
      "metadata": {
        "id": "FUYGnY9Z-Y5A"
      }
    },
    {
      "cell_type": "code",
      "source": [
        "mask, H_init, max_heat = image_to_heat_pattern(sample_img_path, cfg)"
      ],
      "metadata": {
        "id": "sR3zC-F29FaA"
      },
      "execution_count": null,
      "outputs": []
    },
    {
      "cell_type": "markdown",
      "source": [
        "### 3-4. 👀 事前処理されたサンプル画像の確認\n",
        "> 事前処理されたサンプル画像を表示します。これが最適化前の状態です。\n",
        "\n"
      ],
      "metadata": {
        "id": "JzJTzQcm1HyG"
      }
    },
    {
      "cell_type": "code",
      "source": [
        "# Visualize the initialized print pattern using matplotlib\n",
        "def visualize_init_pattern(H_init, max_heat):\n",
        "  plt.figure(figsize=(4,4))\n",
        "  plt.imshow(H_init/max_heat, cmap='gray_r', vmin=0.0, vmax=1.0)\n",
        "  plt.axis('off')\n",
        "  plt.title(\"Initial print pattern\")\n",
        "  plt.show()\n",
        "\n",
        "visualize_init_pattern(H_init, max_heat)"
      ],
      "metadata": {
        "id": "fx4uB7dG1IGr"
      },
      "execution_count": null,
      "outputs": []
    },
    {
      "cell_type": "markdown",
      "source": [
        "### 3-5. 🔁 最適化の実行\n",
        "\n",
        "> この最適化の目的は、紙内で熱伝導が起こっても元の模様に近いデコボコ模様をつくることです。模様をそのまま均一なグレーや黒にすると、熱伝導の影響で太い線は熱くなりすぎ、細い線は熱くならないため、画像通りの温度分布にならず、温度分布に基づくデコボコ模様も画像通りになりません。なので、熱伝導の結果が元画像通りの温度分布になるように「最適化」を行い、部分ごとの濃淡を調節します。\n"
      ],
      "metadata": {
        "id": "bMiKovWfAPkl"
      }
    },
    {
      "cell_type": "code",
      "source": [
        "%%time\n",
        "# Set the maximum height of the output\n",
        "display(Javascript('google.colab.output.setIframeHeight(0, true, {maxHeight: 200})'))\n",
        "\n",
        "# Compute physical dimensions (for logging)\n",
        "img_w, img_h, phys_w, phys_h = compute_dims(Image.open(sample_img_path))\n",
        "\n",
        "# Optimize\n",
        "T_best, H_best, errors = optimize(mask, H_init, max_heat, img_w, img_h, phys_w, phys_h, cfg)\n",
        "print(f\"Optimization completed in {len(errors)} iterations.\")"
      ],
      "metadata": {
        "id": "loyB1Ww7AJ3l"
      },
      "execution_count": null,
      "outputs": []
    },
    {
      "cell_type": "markdown",
      "source": [
        "###3-6. 👀 最適化された模様画像の確認\n",
        "\n",
        "> 最適化された模様画像を保存・表示します。ここで最適化された画像に満足であれば、後でダウンロードします。\n",
        "\n"
      ],
      "metadata": {
        "id": "mCxPTsv2AmFt"
      }
    },
    {
      "cell_type": "code",
      "source": [
        "# Save pattern PDF\n",
        "pattern_pdf = save_pattern(sample_img_path, H_best, max_heat)\n",
        "print(f\"Saved optimized pattern to: {pattern_pdf}\")\n",
        "\n",
        "# Display the generated PDF inline in Colab\n",
        "with open(pattern_pdf, \"rb\") as pdf_file:\n",
        "    encoded_pdf = base64.b64encode(pdf_file.read()).decode('utf-8')\n",
        "IFrame(f\"data:application/pdf;base64,{encoded_pdf}\", width=400, height=400)"
      ],
      "metadata": {
        "id": "E04qrxyV-eU8"
      },
      "execution_count": null,
      "outputs": []
    },
    {
      "cell_type": "markdown",
      "source": [
        "### 3-7. 👀 予想されるデコボコ模様と温度分布の確認\n",
        "\n",
        "> 予想されるデコボコ模様と温度分布を確認できます。\n",
        "\n"
      ],
      "metadata": {
        "id": "N5AJMIUXsIGB"
      }
    },
    {
      "cell_type": "code",
      "source": [
        "def display_plots(plots):\n",
        "  fig, (ax_swell, ax_temperature) = plt.subplots(1, 2, figsize=(4 * 2, 4))\n",
        "\n",
        "  img_plot = Image.open(plots[0])\n",
        "  ax_swell.imshow(img_plot)\n",
        "  ax_swell.axis('off')\n",
        "  ax_swell.set_title('Swell Pattern')\n",
        "\n",
        "  img_plot = Image.open(plots[1])\n",
        "  ax_temperature.imshow(img_plot)\n",
        "  ax_temperature.axis('off')\n",
        "  ax_temperature.set_title('Temperature Distribution [C°]')\n",
        "\n",
        "  plt.tight_layout()\n",
        "  plt.show()\n",
        "\n",
        "# Save and display plots with matplotlib\n",
        "plots = save_plots(T_best, phys_w, phys_h, sample_img_path, dpi=72)\n",
        "display_plots(plots)"
      ],
      "metadata": {
        "id": "T8QH6_GMsVPF"
      },
      "execution_count": null,
      "outputs": []
    },
    {
      "cell_type": "markdown",
      "source": [
        "### 3-8. 💾 最適化された模様画像のダウンロード\n",
        "\n",
        "> 結果に満足であれば、最適化された模様画像をダウンロードします。"
      ],
      "metadata": {
        "id": "Ld29_qKduCVT"
      }
    },
    {
      "cell_type": "code",
      "source": [
        "# Ask user if they want to download the PDF locally\n",
        "def download_pdf(pdf_file):\n",
        "  download_choice = input('Do you want to download the optimized PDF? (y/n): ').strip().lower()\n",
        "  if download_choice == 'y':\n",
        "      files.download(str(pdf_file))\n",
        "\n",
        "download_pdf(pattern_pdf)"
      ],
      "metadata": {
        "id": "xeteORC_uMDz"
      },
      "execution_count": null,
      "outputs": []
    },
    {
      "cell_type": "markdown",
      "source": [
        "###3-9. 📉（任意）最適化パフォーマンスの確認\n",
        "\n",
        "> 興味があれば、最適化において模様がどのように改善されたかを確認できます。「Outlier Cells」とは、光加熱後に元の模様通りにならなかった部分の割合です。つまり、これが0になれば、元画像の模様とデコボコ模様が（シミュレーション上では）完全に一致します。"
      ],
      "metadata": {
        "id": "u4ppfYWPA5S7"
      }
    },
    {
      "cell_type": "code",
      "source": [
        "# Plot normalized error progression over iterations\n",
        "def plot_error_progression(errors, cfg):\n",
        "  errors_norm = [e * 100 / cfg.resolution for e in errors]\n",
        "  plt.figure(figsize=(6,4))\n",
        "  plt.plot(errors_norm)\n",
        "  plt.xlabel('Iteration')\n",
        "  plt.ylabel('Outlier Cells [%]')\n",
        "  plt.title('Optimization Error Progress')\n",
        "  plt.show()\n",
        "\n",
        "plot_error_progression(errors, cfg)"
      ],
      "metadata": {
        "id": "kcRinr0aA4cu"
      },
      "execution_count": null,
      "outputs": []
    },
    {
      "cell_type": "markdown",
      "source": [
        "## 4. 自前の模様を最適化\n",
        "**概要**：自前の模様画像を最適化しましょう。\n",
        "0. **3章をスキップした場合**： 3章の関数を定義\n",
        "1. 📁 模様画像のアップロード\n",
        "2. 🔧 模様画像の事前処理と確認\n",
        "3. 🔁 最適化の実行\n",
        "4. 👀 最適化された模様画像の確認\n",
        "5. 👀 予想されるデコボコ模様と温度分布の確認\n",
        "6. 💾 最適化された模様画像のダウンロード\n",
        "7. 📉 （任意）最適化パフォーマンスの確認"
      ],
      "metadata": {
        "id": "ay2GXkzFPJuT"
      }
    },
    {
      "cell_type": "markdown",
      "source": [
        "### 4-0. **3章をスキップした場合**： 3章の関数を定義\n",
        "> 3章を実行せずにいきなりこの章に進んだ場合でも、このセルを実行すれば問題なく以後のセルを実行できます。"
      ],
      "metadata": {
        "id": "a7dLc_OzXbL_"
      }
    },
    {
      "cell_type": "code",
      "source": [
        "# Locate the bundled config.json inside the installed package\n",
        "def get_default_config_path():\n",
        "    return pkg_resources.as_file(\n",
        "        pkg_resources.files(\"sbl_optimizer.assets\") / \"config.json\"\n",
        "    )\n",
        "\n",
        "# Visualize the initialized print pattern using matplotlib\n",
        "def visualize_init_pattern(H_init, max_heat):\n",
        "  plt.figure(figsize=(4,4))\n",
        "  plt.imshow(H_init/max_heat, cmap='gray_r', vmin=0.0, vmax=1.0)\n",
        "  plt.axis('off')\n",
        "  plt.title(\"Initial print pattern\")\n",
        "  plt.show()\n",
        "\n",
        "# Visualize the swell pattern and temperature distribution using matplotlib heatmap\n",
        "def display_plots(plots):\n",
        "  fig, (ax_swell, ax_temperature) = plt.subplots(1, 2, figsize=(4 * 2, 4))\n",
        "  img_plot = Image.open(plots[0])\n",
        "  ax_swell.imshow(img_plot)\n",
        "  ax_swell.axis('off')\n",
        "  ax_swell.set_title('Swell Pattern')\n",
        "  img_plot = Image.open(plots[1])\n",
        "  ax_temperature.imshow(img_plot)\n",
        "  ax_temperature.axis('off')\n",
        "  ax_temperature.set_title('Temperature Distribution [C°]')\n",
        "  plt.tight_layout()\n",
        "  plt.show()\n",
        "\n",
        "# Ask user if they want to download the PDF locally\n",
        "def download_pdf(pdf_file):\n",
        "  download_choice = input('Do you want to download the optimized PDF? (y/n): ').strip().lower()\n",
        "  if download_choice == 'y':\n",
        "      files.download(str(pdf_file))\n",
        "\n",
        "# Plot normalized error progression over iterations\n",
        "def plot_error_progression(errors, cfg):\n",
        "  errors_norm = [e * 100 / cfg.resolution for e in errors]\n",
        "  plt.figure(figsize=(6,4))\n",
        "  plt.plot(errors_norm)\n",
        "  plt.xlabel('Iteration')\n",
        "  plt.ylabel('Outlier Cells [%]')\n",
        "  plt.title('Optimization Error Progress')\n",
        "  plt.show()\n",
        "\n",
        "\n",
        "# Load the default configuration file\n",
        "with get_default_config_path() as config_path:\n",
        "    with open(config_path) as f:\n",
        "        cfg_data = json.load(f)\n",
        "print(\"Default configuration:\")\n",
        "for k, v in cfg_data.items():\n",
        "    print(f\"- {k}: {v}\")\n",
        "# Create Config object\n",
        "cfg = Config.from_file(config_path)"
      ],
      "metadata": {
        "id": "mSCfjU1CXunK"
      },
      "execution_count": null,
      "outputs": []
    },
    {
      "cell_type": "markdown",
      "source": [
        "### 4-1. 📁 模様画像のアップロード\n",
        "> パソコン上からJPGかPNGフォーマットの模様画像をアップロードしてください。 「ファイルを選択」 をクリックして画像を選ぶと、その画像が下に表示されます。"
      ],
      "metadata": {
        "id": "6dDTuZ9dRhpV"
      }
    },
    {
      "cell_type": "code",
      "source": [
        "def upload_image():\n",
        "  \"\"\"\n",
        "  Prompt the user to upload an image and save it to the working directory.\n",
        "  Returns:\n",
        "      Path object pointing to the uploaded image file.\n",
        "  \"\"\"\n",
        "  uploaded = files.upload()  # Opens upload dialog\n",
        "  if not uploaded:\n",
        "      raise ValueError(\"No file uploaded.\")\n",
        "  # Get the first uploaded filename\n",
        "  filename = next(iter(uploaded.keys()))\n",
        "  print(f\"Uploaded file: {filename}\")\n",
        "  return Path(filename)\n",
        "\n",
        "your_img_path = upload_image()\n",
        "your_img = Image.open(your_img_path)\n",
        "plt.figure(figsize=(4,4))\n",
        "plt.imshow(your_img)\n",
        "plt.axis('off')\n",
        "plt.title(\"Uploaded Input Image\")\n",
        "plt.show()"
      ],
      "metadata": {
        "id": "NMJGdLVCPVN6"
      },
      "execution_count": null,
      "outputs": []
    },
    {
      "cell_type": "markdown",
      "source": [
        "### 4-2. 👀 事前処理された画像の確認\n",
        "> 事前処理された画像を表示します。これが最適化前の状態です。\n",
        "\n"
      ],
      "metadata": {
        "id": "cN72bXeVSiNo"
      }
    },
    {
      "cell_type": "code",
      "source": [
        "mask_yours, H_init_yours, max_heat_yours = image_to_heat_pattern(your_img_path, cfg)\n",
        "visualize_init_pattern(H_init_yours, max_heat_yours)"
      ],
      "metadata": {
        "id": "MddVonkRRVKp"
      },
      "execution_count": null,
      "outputs": []
    },
    {
      "cell_type": "markdown",
      "source": [
        "### 4-3. 🔁 最適化の実行\n",
        "\n",
        "> この最適化の目的は、紙内で熱伝導が起こっても元の模様に近いデコボコ模様をつくることです。模様をそのまま均一なグレーや黒にすると、熱伝導の影響で太い線は熱くなりすぎ、細い線は熱くならないため、画像通りの温度分布にならず、温度分布に基づくデコボコ模様も画像通りになりません。なので、熱伝導の結果が元画像通りの温度分布になるように「最適化」を行い、部分ごとの濃淡を調節します。\n"
      ],
      "metadata": {
        "id": "j2sTeLQqSW00"
      }
    },
    {
      "cell_type": "code",
      "source": [
        "%%time\n",
        "# Set the maximum height of the output\n",
        "display(Javascript('google.colab.output.setIframeHeight(0, true, {maxHeight: 200})'))\n",
        "\n",
        "# Compute physical dimensions (for logging)\n",
        "img_w_yours, img_h_yours, phys_w_yours, phys_h_yours = compute_dims(Image.open(your_img_path))\n",
        "\n",
        "# Optimize\n",
        "T_best_yours, H_best_yours, errors_yours = optimize(mask_yours, H_init_yours, max_heat_yours, img_w_yours, img_h_yours, phys_w_yours, phys_h_yours, cfg)\n",
        "print(f\"Optimization completed in {len(errors_yours)} iterations.\")"
      ],
      "metadata": {
        "id": "18HM1QaESLHD"
      },
      "execution_count": null,
      "outputs": []
    },
    {
      "cell_type": "markdown",
      "source": [
        "### 4-4. 👀 最適化された模様画像の確認\n",
        "\n",
        "> 最適化された模様画像を保存・表示します。ここで最適化された画像に満足であれば、後でダウンロードします。"
      ],
      "metadata": {
        "id": "_YKmrkjFU3Sg"
      }
    },
    {
      "cell_type": "code",
      "source": [
        "# Save pattern PDF\n",
        "pattern_pdf_yours = save_pattern(your_img_path, H_best_yours, max_heat_yours)\n",
        "print(f\"Saved optimized pattern to: {pattern_pdf_yours}\")\n",
        "\n",
        "# Display the generated PDF inline in Colab\n",
        "with open(pattern_pdf_yours, \"rb\") as pdf_file:\n",
        "    encoded_pdf_yours = base64.b64encode(pdf_file.read()).decode('utf-8')\n",
        "IFrame(f\"data:application/pdf;base64,{encoded_pdf_yours}\", width=400, height=400)"
      ],
      "metadata": {
        "id": "d5_z1KVISrk4"
      },
      "execution_count": null,
      "outputs": []
    },
    {
      "cell_type": "markdown",
      "source": [
        "###4-5. 👀 予想されるデコボコ模様と温度分布の確認\n",
        "\n",
        "> 予想されるデコボコ模様と温度分布を確認できます。"
      ],
      "metadata": {
        "id": "xNyyC1Q6VD5m"
      }
    },
    {
      "cell_type": "code",
      "source": [
        "# Save and display plots with matplotlib\n",
        "plots_yours = save_plots(T_best_yours, phys_w_yours, phys_h_yours, your_img_path, dpi=72)\n",
        "display_plots(plots_yours)"
      ],
      "metadata": {
        "id": "dhKY6v88TIrX"
      },
      "execution_count": null,
      "outputs": []
    },
    {
      "cell_type": "markdown",
      "source": [
        "###4-6. 💾 最適化された模様画像のダウンロード\n",
        "\n",
        "> 結果に満足であれば、最適化された模様画像をダウンロードします。"
      ],
      "metadata": {
        "id": "FtZUXAMQVb_R"
      }
    },
    {
      "cell_type": "code",
      "source": [
        "download_pdf(pattern_pdf_yours)"
      ],
      "metadata": {
        "id": "qxwi9biBUG51"
      },
      "execution_count": null,
      "outputs": []
    },
    {
      "cell_type": "markdown",
      "source": [
        "###4-7. 📉（任意）最適化パフォーマンスの確認\n",
        "\n",
        "> 興味があれば、最適化において模様がどのように改善されたかを確認できます。「Outlier Cells」とは、光加熱後に元の模様通りにならなかった部分の割合です。つまり、これが0になれば、元画像の模様とデコボコ模様が（シミュレーション上では）完全に一致します。"
      ],
      "metadata": {
        "id": "4Gk7WbR2WF1P"
      }
    },
    {
      "cell_type": "code",
      "source": [
        "plot_error_progression(errors_yours, cfg)"
      ],
      "metadata": {
        "id": "R4RIGcrHVjMw"
      },
      "execution_count": null,
      "outputs": []
    },
    {
      "cell_type": "markdown",
      "source": [
        "##5. 設定の変更\n",
        "**概要:** シミュレーションの設定をカスタマイズして、自前の模様画像を最適化します。\n",
        "0. **3章と4章をスキップした場合**：関数の定義\n",
        "1. ⚙️ 設定の変更\n",
        "2. 📁 模様画像のアップロード\n",
        "3. 🔧 模様画像の事前処理と確認\n",
        "4. 🔁 カスタマイズ設定で最適化の実行\n",
        "5. 👀 最適化された模様画像の確認\n",
        "6. 👀 予想されるデコボコ模様と温度分布の確認\n",
        "7. 💾 最適化された模様画像のダウンロード\n",
        "8. 📉（任意）最適化パフォーマンスの確認"
      ],
      "metadata": {
        "id": "uHP6gd2SYqIg"
      }
    },
    {
      "cell_type": "markdown",
      "source": [
        "###5-0. **3章と4章をスキップした場合**：関数の定義\n",
        ">3章・4章を実行せずにいきなりこの章に進んだ場合でも、このセルを実行すれば問題なく以後のセルを実行できます。"
      ],
      "metadata": {
        "id": "zMq7t065bBps"
      }
    },
    {
      "cell_type": "code",
      "source": [
        "# Locate the bundled config.json inside the installed package\n",
        "def get_default_config_path():\n",
        "    return pkg_resources.as_file(\n",
        "        pkg_resources.files(\"sbl_optimizer.assets\") / \"config.json\"\n",
        "    )\n",
        "\n",
        "# Visualize the initialized print pattern using matplotlib\n",
        "def visualize_init_pattern(H_init, max_heat):\n",
        "  plt.figure(figsize=(4,4))\n",
        "  plt.imshow(H_init/max_heat, cmap='gray_r', vmin=0.0, vmax=1.0)\n",
        "  plt.axis('off')\n",
        "  plt.title(\"Initial print pattern\")\n",
        "  plt.show()\n",
        "\n",
        "# Visualize the swell pattern and temperature distribution using matplotlib heatmap\n",
        "def display_plots(plots):\n",
        "  fig, (ax_swell, ax_temperature) = plt.subplots(1, 2, figsize=(4 * 2, 4))\n",
        "  img_plot = Image.open(plots[0])\n",
        "  ax_swell.imshow(img_plot)\n",
        "  ax_swell.axis('off')\n",
        "  ax_swell.set_title('Swell Pattern')\n",
        "  img_plot = Image.open(plots[1])\n",
        "  ax_temperature.imshow(img_plot)\n",
        "  ax_temperature.axis('off')\n",
        "  ax_temperature.set_title('Temperature Distribution [C°]')\n",
        "  plt.tight_layout()\n",
        "  plt.show()\n",
        "\n",
        "# Ask user if they want to download the PDF locally\n",
        "def download_pdf(pdf_file):\n",
        "  download_choice = input('Do you want to download the optimized PDF? (y/n): ').strip().lower()\n",
        "  if download_choice == 'y':\n",
        "      files.download(str(pdf_file))\n",
        "\n",
        "# Plot normalized error progression over iterations\n",
        "def plot_error_progression(errors, cfg):\n",
        "  errors_norm = [e * 100 / cfg.resolution for e in errors]\n",
        "  plt.figure(figsize=(6,4))\n",
        "  plt.plot(errors_norm)\n",
        "  plt.xlabel('Iteration')\n",
        "  plt.ylabel('Outlier Cells [%]')\n",
        "  plt.title('Optimization Error Progress')\n",
        "  plt.show()\n",
        "\n",
        "# Upload image\n",
        "def upload_image():\n",
        "  \"\"\"\n",
        "  Prompt the user to upload an image and save it to the working directory.\n",
        "  Returns:\n",
        "      Path object pointing to the uploaded image file.\n",
        "  \"\"\"\n",
        "  uploaded = files.upload()  # Opens upload dialog\n",
        "  if not uploaded:\n",
        "      raise ValueError(\"No file uploaded.\")\n",
        "  # Get the first uploaded filename\n",
        "  filename = next(iter(uploaded.keys()))\n",
        "  print(f\"Uploaded file: {filename}\")\n",
        "  return Path(filename)"
      ],
      "metadata": {
        "id": "S-9VLDMda7VR"
      },
      "execution_count": null,
      "outputs": []
    },
    {
      "cell_type": "markdown",
      "source": [
        "###5-1. ⚙️ 設定の変更\n",
        "\n",
        "| パラメータ | 種類 | デフォルト | 説明 |\n",
        "|-----|------|---------|-------------|\n",
        "| `swell_temperature` | float | 145 [C°] | 膨張温度。使用する膨張ペーストに記載されている、ペーストが膨らみ始める温度に応じて調整してください。 |\n",
        "| `light_power`       | float | 100.0 [W] |光出力。使用するライトの出力に応じて調節してください。 |\n",
        "| `light_diameter`    | float | 0.06 [m] | 紙面に当たる光の直径。紙に光を当てて加熱する際に、光が当たる範囲に応じて調整してください。 |\n",
        "| `alpha`             | float | 5e-07 [m²/s] | 紙の熱流量。厚紙や極端に薄い紙などを使用する際に調節してください。 |\n",
        "| `verbose`           | int   | 1 | ログ出力の有無。 0：ログなし。 1: ログあり。 |\n",
        "| `resolution`        | int   | 120000 | 熱シミュレーションの解像度。解像度を下げれば、最適化速度が上がる。解像度を上げれば、より画像に忠実なデコボコ模様になる。 |\n",
        "\n",
        "> まずはデフォルト値のまま使ってみて、思うようなデコボコ模様ができなければ、変更するのがよいと思います。使用する材料に応じて、以下のセル内の数値を直接編集してください。\n",
        "\n"
      ],
      "metadata": {
        "id": "jNyYGd1sY4Z_"
      }
    },
    {
      "cell_type": "code",
      "source": [
        "custom_cfg_contents = {\n",
        "    \"swell_temperature\": 140.0,\n",
        "    \"light_power\": 120.0,\n",
        "    \"light_diameter\": 0.08,\n",
        "    \"alpha\": 5e-07,\n",
        "    \"verbose\": 0,\n",
        "    \"resolution\": 240000\n",
        "}"
      ],
      "metadata": {
        "id": "dt6WqPYlY2Gq"
      },
      "execution_count": null,
      "outputs": []
    },
    {
      "cell_type": "code",
      "source": [
        "# Write to a JSON file in the notebook workspace\n",
        "custom_config_path = Path(\"custom_config.json\")\n",
        "with open(custom_config_path, \"w\") as f:\n",
        "    json.dump(custom_cfg_contents, f, indent=4)\n",
        "print(f\"Custom config written to: {custom_config_path}\")\n",
        "\n",
        "# Load and instantiate Config from this custom file\n",
        "cfg_custom = Config.from_file(custom_config_path)\n",
        "print(\"Loaded custom Config:\")\n",
        "for k, v in custom_cfg_contents.items():\n",
        "    print(f\"- {k}: {v}\")"
      ],
      "metadata": {
        "id": "5xjhfvcxcnK2"
      },
      "execution_count": null,
      "outputs": []
    },
    {
      "cell_type": "markdown",
      "source": [
        "###5-2. 📁 模様画像のアップロード\n",
        "> パソコン上からJPGかPNGフォーマットの模様画像をアップロードしてください。\n",
        "「ファイルを選択」 をクリックして画像を選ぶと、その画像が下に表示されます。"
      ],
      "metadata": {
        "id": "x1bfR0oIdkU7"
      }
    },
    {
      "cell_type": "code",
      "source": [
        "your_img_path_c = upload_image()\n",
        "your_img_c = Image.open(your_img_path_c)\n",
        "plt.figure(figsize=(4,4))\n",
        "plt.imshow(your_img_c)\n",
        "plt.axis('off')\n",
        "plt.title(\"Uploaded Input Image\")\n",
        "plt.show()"
      ],
      "metadata": {
        "id": "ObgU3OeZdkVG"
      },
      "execution_count": null,
      "outputs": []
    },
    {
      "cell_type": "markdown",
      "source": [
        "### 5-3. 🔧 事前処理された画像の確認\n",
        "> 事前処理された画像を表示します。これが最適化前の状態です。"
      ],
      "metadata": {
        "id": "mdXQj160Q3p9"
      }
    },
    {
      "cell_type": "code",
      "source": [
        "mask_yours_c, H_init_yours_c, max_heat_yours_c = image_to_heat_pattern(your_img_path_c, cfg_custom)\n",
        "visualize_init_pattern(H_init_yours_c, max_heat_yours_c)"
      ],
      "metadata": {
        "id": "uT0PuzLEQ3qC"
      },
      "execution_count": null,
      "outputs": []
    },
    {
      "cell_type": "markdown",
      "source": [
        "###5-4. 🔁 カスタマイズ設定での最適化の実行\n",
        "熱伝導のせいで期待通りの温度にならないところを減らすため、模様の濃淡を最適化します。シミュレーションは、[ここ](#scrollTo=jNyYGd1sY4Z_)で設定したパラメータに基づいて行われます。ここでの「最適化」とは、光による加熱で浮き出るデコボコ模様が、元の模様と一致するようにすることを意味します。"
      ],
      "metadata": {
        "id": "fl5GQtxtfOKb"
      }
    },
    {
      "cell_type": "code",
      "source": [
        "%%time\n",
        "# Set the maximum height of the output\n",
        "display(Javascript('google.colab.output.setIframeHeight(0, true, {maxHeight: 200})'))\n",
        "\n",
        "# Compute physical dimensions (for logging)\n",
        "img_w_yours_c, img_h_yours_c, phys_w_yours_c, phys_h_yours_c = compute_dims(Image.open(your_img_path_c))\n",
        "\n",
        "# Optimize\n",
        "T_best_yours_c, H_best_yours_c, errors_yours_c = optimize(mask_yours_c, H_init_yours_c, max_heat_yours_c, img_w_yours_c, img_h_yours_c, phys_w_yours_c, phys_h_yours_c, cfg_custom)\n",
        "print(f\"Optimization completed in {len(errors_yours_c)} iterations.\")"
      ],
      "metadata": {
        "id": "UzKd3h5CfOKc"
      },
      "execution_count": null,
      "outputs": []
    },
    {
      "cell_type": "markdown",
      "source": [
        "### 5-5. 👀 最適化された模様画像の確認\n",
        "\n",
        "> 最適化された模様画像を保存・表示します。ここで最適化された画像に満足であれば、後でダウンロードします。"
      ],
      "metadata": {
        "id": "ETxSmw6wmTFm"
      }
    },
    {
      "cell_type": "code",
      "source": [
        "# Save pattern PDF\n",
        "pattern_pdf_yours_c = save_pattern(your_img_path_c, H_best_yours_c, max_heat_yours_c)\n",
        "print(f\"Saved optimized pattern to: {pattern_pdf_yours_c}\")\n",
        "\n",
        "# Display the generated PDF inline in Colab\n",
        "with open(pattern_pdf_yours_c, \"rb\") as pdf_file:\n",
        "    encoded_pdf_yours_c = base64.b64encode(pdf_file.read()).decode('utf-8')\n",
        "IFrame(f\"data:application/pdf;base64,{encoded_pdf_yours_c}\", width=400, height=400)"
      ],
      "metadata": {
        "id": "wftfUnLXhFNl"
      },
      "execution_count": null,
      "outputs": []
    },
    {
      "cell_type": "markdown",
      "source": [
        "###5-6. 👀 予想されるデコボコ模様と温度分布の確認\n",
        "\n",
        "> 予想されるデコボコ模様と温度分布を確認できます。"
      ],
      "metadata": {
        "id": "PfLU5X5VmhG8"
      }
    },
    {
      "cell_type": "code",
      "source": [
        "# Save and display plots with matplotlib\n",
        "plots_yours_c = save_plots(T_best_yours_c, phys_w_yours_c, phys_h_yours_c, your_img_path_c, dpi=72)\n",
        "display_plots(plots_yours_c)"
      ],
      "metadata": {
        "id": "UiIS8pDmiQQG"
      },
      "execution_count": null,
      "outputs": []
    },
    {
      "cell_type": "markdown",
      "source": [
        "###5-7. 💾 最適化された模様画像のダウンロード\n",
        "\n",
        "> 結果に満足であれば、最適化された模様画像をダウンロードします。"
      ],
      "metadata": {
        "id": "tGR8fb90msO_"
      }
    },
    {
      "cell_type": "code",
      "source": [
        "download_pdf(pattern_pdf_yours_c)"
      ],
      "metadata": {
        "id": "_0tYdRDiiiDM"
      },
      "execution_count": null,
      "outputs": []
    },
    {
      "cell_type": "markdown",
      "source": [
        "###5-8. 📉（任意）最適化パフォーマンスの確認\n",
        "\n",
        "> 興味があれば、最適化において模様がどのように改善されたかを確認できます。「Outlier Cells」とは、光加熱後に元の模様通りにならなかった部分の割合です。つまり、これが0になれば、元画像の模様とデコボコ模様が（シミュレーション上では）完全に一致します。"
      ],
      "metadata": {
        "id": "jSNf4gKUmzKA"
      }
    },
    {
      "cell_type": "code",
      "source": [
        "plot_error_progression(errors_yours_c, cfg_custom)"
      ],
      "metadata": {
        "id": "WGXl8ZFwirDe"
      },
      "execution_count": null,
      "outputs": []
    },
    {
      "cell_type": "markdown",
      "source": [
        "## 6. よくある質問 ＆ 問題の解決方法\n",
        "\n",
        "Q: どのファイル形式に対応していますか？\n",
        "A: JPG または PNG 画像をアップロードできます。\n",
        "\n",
        "Q: 画像がアップロードできません。\n",
        "A: ファイルを選択 ボタンをクリックして、有効な画像ファイルを選んでください。うまくいかない場合はセルを再実行してください。\n",
        "\n",
        "Q: 最適化中にエラーが出ました。\n",
        "A: ファイルが大きすぎないか確認してください。より小さな画像を使い、再実行してみてください。\n",
        "\n",
        "Q: 最適化にはどのくらい時間がかかりますか？\n",
        "A: Colab 上では、1～2分ほどかかる場合があります。\n",
        "\n",
        "ヒント： うまく動作しない場合は、ノートブックを再起動（「ランタイム」→「ランタイムを再起動」）し、最初から再実行してみてください。\n",
        "\n",
        "以上で問題が解決しない場合、以下からお問い合わせください。\n",
        "\n",
        "[![@RefreshSource](https://img.shields.io/badge/@RefreshSource-black?logo=x&logoColor=white)](https://x.com/refreshsource)\n",
        "[![Email](https://img.shields.io/badge/sosuke.ichihashi@gmail.com-black?logo=gmail&logoColor=white)](mailto:sosuke.ichihashi@gmail.com)"
      ],
      "metadata": {
        "id": "-pFXIm8gfsJX"
      }
    },
    {
      "cell_type": "markdown",
      "source": [
        "## 7. ライセンス ＆ 引用方法\n",
        "###ライセンス\n",
        ">本プロジェクトは、[MITライセンス](https://github.com/sosucat/sbl-optimizer-colab/blob/main/LICENSE)のもとで公開されています.\n",
        "\n",
        "\n",
        "###開発者\n",
        ">市橋 爽介\n",
        "\n",
        "> [![市橋 爽介](https://img.shields.io/badge/市橋のサイト-black?logo=googlescholar&logoColor=white)](https://sosuke-ichihashi.com/)\n",
        "[![@sosucat](https://img.shields.io/badge/@sosucat-black?logo=github&logoColor=white)](https://github.com/sosucat)\n",
        "[![@RefreshSource](https://img.shields.io/badge/@RefreshSource-black?logo=x&logoColor=white)](https://x.com/refreshsource)\n",
        "\n",
        "\n",
        "###引用方法\n",
        "> 研究やプロジェクトで **sbl-optimizer** を使用される場合は、以下を引用してください:\n",
        "* Sosuke Ichihashi, Noura Howell, and HyunJoo Oh. 2025.\\\n",
        "Swell by Light: An Approachable Technique for Freeform Raised Textures. \\\n",
        "In Proceedings of the Nineteenth International Conference on Tangible, Embedded, and Embodied Interaction (TEI '25). Association for Computing Machinery, New York, NY, USA, Article 45, 1–16. https://doi.org/10.1145/3689050.3704420\n",
        "```bibtex\n",
        "@inproceedings{10.1145/3689050.3704420,\n",
        "author = {Ichihashi, Sosuke and Howell, Noura and Oh, HyunJoo},\n",
        "title = {Swell by Light: An Approachable Technique for Freeform Raised Textures},\n",
        "year = {2025},\n",
        "isbn = {9798400711978},\n",
        "publisher = {Association for Computing Machinery},\n",
        "address = {New York, NY, USA},\n",
        "url = {https://doi.org/10.1145/3689050.3704420},\n",
        "doi = {10.1145/3689050.3704420},\n",
        "booktitle = {Proceedings of the Nineteenth International Conference on Tangible, Embedded, and Embodied Interaction},\n",
        "articleno = {45},\n",
        "numpages = {16},\n",
        "keywords = {2.5D fabrication, Personal fabrication, tactile rendering},\n",
        "location = {Bordeaux / Talence, France},\n",
        "series = {TEI '25}\n",
        "}\n",
        "```"
      ],
      "metadata": {
        "id": "q2DhdMj88Kec"
      }
    },
    {
      "cell_type": "markdown",
      "source": [
        "## 8. **もっと深く知りたい方は、以下をどうぞ！**\n",
        "\n",
        "\n",
        "🎨 **Swell by Light によるデコボコ模様の作り方**\n",
        "\n",
        "> ウェブサイトと動画で、デコボコ模様の作り方を紹介しています。\n",
        "\n",
        ">[![Fabrication](https://img.shields.io/badge/🔗_作り方-black)](https://sites.gatech.edu/futurefeelings/2025/07/23/%e5%85%89%e3%81%a7%e3%83%87%e3%82%b3%e3%83%9c%e3%82%b3%e3%82%82%e3%82%88%e3%81%86%e3%82%92%e4%bd%9c%e3%82%8d%e3%81%86%ef%bc%81/)\n",
        "[![Watch fabrication demo on YouTube](https://img.shields.io/badge/作り方-750014?logo=youtube)](https://youtu.be/LomVS_jHxl0?feature=shared)\n",
        "\n",
        "\n",
        "🔗 **ホームページ**\n",
        "\n",
        "> Swell by Lightのホームページで、研究詳細や応用例を紹介しています。\n",
        "\n",
        ">[![Project page](https://img.shields.io/badge/🔗_ホームページ-black)](https://sites.gatech.edu/futurefeelings/2025/07/03/swell-by-light-tei-25-2/)\n",
        "\n",
        "\n",
        "📄 **研究論文**\n",
        "\n",
        "> Swell by Lightの理論や関連研究、応用例については、論文をご参照ください。\n",
        "\n",
        ">[![Research paper](https://img.shields.io/badge/研究論文-black?logo=acm)](https://doi.org/10.1145/3689050.3704420)\n",
        "\n",
        "\n",
        "👩‍💻 **ローカル実行用のコマンドラインツール**\n",
        "\n",
        "> PyPI や GitHub にあるチュートリアルを見て、お使いのパソコン上で sbl-optimizer をより簡単に使ってみましょう。\n",
        "\n",
        ">[![PyPI version](https://badge.fury.io/py/sbl-optimizer.svg)](https://badge.fury.io/py/sbl-optimizer)\n",
        "[![GitHub](https://img.shields.io/badge/sbl--optimizer-black?logo=github)](https://github.com/sosucat/sbl-optimizer)\n",
        "\n",
        "\n",
        "🦙 **簡易版Colabノート**\n",
        "\n",
        "> 本ノートで紹介した機能を手軽に使用したい方は、こちらをご覧ください。\n",
        "\n",
        ">[![Simple Colab](https://img.shields.io/badge/簡易版Colabノート-black?logo=googlecolab)](https://colab.research.google.com/drive/15zYmaNvh88jztUcqpzwLXtT4YMRk2i1G?usp=sharing)\n",
        "\n",
        "\n",
        "👨‍💻 **ソースコードと問題報告**\n",
        "\n",
        "> 問題の報告や貢献、最新の開発状況の確認には、ぜひ GitHub リポをご覧ください。\n",
        "\n",
        ">[![GitHub sbl-optimizer](https://img.shields.io/badge/sbl--optimizer-black?logo=github)](https://github.com/sosucat/sbl-optimizer)\n",
        "[![GitHub sbl-optimizer-colab](https://img.shields.io/badge/このColabノート-black?logo=github)](https://github.com/sosucat/sbl-optimizer-colab)\n",
        "\n",
        "\n",
        "🕵️‍♂️ **著者のサイト**\n",
        "\n",
        "> 市橋 爽介の他の研究もぜひご覧あれ！\n",
        "\n",
        ">[![著者のサイト](https://img.shields.io/badge/市橋のサイト-black?logo=googlescholar&logoColor=white)](https://sosuke-ichihashi.com/)\n",
        "\n",
        "\n",
        "*よいモノづくりを！*"
      ],
      "metadata": {
        "id": "af-mVoGqfRIf"
      }
    },
    {
      "cell_type": "code",
      "source": [],
      "metadata": {
        "id": "Wh1sJsG3KbCP"
      },
      "execution_count": null,
      "outputs": []
    }
  ]
}